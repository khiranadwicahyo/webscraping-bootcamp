{
 "cells": [
  {
   "cell_type": "markdown",
   "id": "85240025",
   "metadata": {},
   "source": [
    "# environment test"
   ]
  },
  {
   "cell_type": "code",
   "execution_count": 1,
   "id": "340d0e14",
   "metadata": {},
   "outputs": [
    {
     "name": "stdout",
     "output_type": "stream",
     "text": [
      "Available kernels:\n",
      "  python3      D:\\Project Data Analysis\\Data Scraping\\bf_se_scraping\\env\\share\\jupyter\\kernels\\python3\n",
      "  env_tutor    C:\\Users\\Acer\\AppData\\Roaming\\jupyter\\kernels\\env_tutor\n",
      "  myenv        C:\\Users\\Acer\\AppData\\Roaming\\jupyter\\kernels\\myenv\n"
     ]
    }
   ],
   "source": [
    "!jupyter kernelspec list"
   ]
  },
  {
   "cell_type": "code",
   "execution_count": 2,
   "id": "85ac1d07",
   "metadata": {},
   "outputs": [
    {
     "name": "stdout",
     "output_type": "stream",
     "text": [
      "Python executable path:\n",
      " d:\\Project Data Analysis\\Data Scraping\\bf_se_scraping\\env\\Scripts\\python.exe\n",
      "Kernel working directory:\n",
      " d:\\Project Data Analysis\\Data Scraping\\bf_se_scraping\\notebooks\n"
     ]
    }
   ],
   "source": [
    "import sys\n",
    "import os\n",
    "\n",
    "print(\"Python executable path:\\n\", sys.executable)\n",
    "print(\"Kernel working directory:\\n\", os.getcwd())\n"
   ]
  }
 ],
 "metadata": {
  "kernelspec": {
   "display_name": "Python (scrapy-env)",
   "language": "python",
   "name": "myenv"
  },
  "language_info": {
   "codemirror_mode": {
    "name": "ipython",
    "version": 3
   },
   "file_extension": ".py",
   "mimetype": "text/x-python",
   "name": "python",
   "nbconvert_exporter": "python",
   "pygments_lexer": "ipython3",
   "version": "3.10.7"
  }
 },
 "nbformat": 4,
 "nbformat_minor": 5
}
