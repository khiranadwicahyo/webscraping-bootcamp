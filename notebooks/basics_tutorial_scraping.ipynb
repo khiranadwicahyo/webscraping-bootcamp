{
 "cells": [
  {
   "cell_type": "markdown",
   "id": "7acce5bd",
   "metadata": {},
   "source": [
    "## **Basics Python for Scraping**"
   ]
  },
  {
   "cell_type": "code",
   "execution_count": 6,
   "id": "1daa938e",
   "metadata": {},
   "outputs": [],
   "source": [
    "import pandas as pd"
   ]
  },
  {
   "cell_type": "code",
   "execution_count": null,
   "id": "c58fb7ac",
   "metadata": {},
   "outputs": [],
   "source": [
    "states = ['Indonesia', 'Malaysia', 'Philippines', 'Thailand', 'Vietnam']\n",
    "id_states = ['INA', 'MY', 'PH', 'TH', 'VN']\n",
    "\n",
    "dict_states = {'States': states, 'ID States': id_states}\n",
    "\n",
    "df_states = pd.DataFrame.from_dict(dict_states)"
   ]
  },
  {
   "cell_type": "code",
   "execution_count": null,
   "id": "461f451d",
   "metadata": {},
   "outputs": [
    {
     "data": {
      "text/html": [
       "<div>\n",
       "<style scoped>\n",
       "    .dataframe tbody tr th:only-of-type {\n",
       "        vertical-align: middle;\n",
       "    }\n",
       "\n",
       "    .dataframe tbody tr th {\n",
       "        vertical-align: top;\n",
       "    }\n",
       "\n",
       "    .dataframe thead th {\n",
       "        text-align: right;\n",
       "    }\n",
       "</style>\n",
       "<table border=\"1\" class=\"dataframe\">\n",
       "  <thead>\n",
       "    <tr style=\"text-align: right;\">\n",
       "      <th></th>\n",
       "      <th>States</th>\n",
       "      <th>ID States</th>\n",
       "    </tr>\n",
       "  </thead>\n",
       "  <tbody>\n",
       "    <tr>\n",
       "      <th>0</th>\n",
       "      <td>Indonesia</td>\n",
       "      <td>INA</td>\n",
       "    </tr>\n",
       "    <tr>\n",
       "      <th>1</th>\n",
       "      <td>Malaysia</td>\n",
       "      <td>MY</td>\n",
       "    </tr>\n",
       "    <tr>\n",
       "      <th>2</th>\n",
       "      <td>Philippines</td>\n",
       "      <td>PH</td>\n",
       "    </tr>\n",
       "    <tr>\n",
       "      <th>3</th>\n",
       "      <td>Thailand</td>\n",
       "      <td>TH</td>\n",
       "    </tr>\n",
       "    <tr>\n",
       "      <th>4</th>\n",
       "      <td>Vietnam</td>\n",
       "      <td>VN</td>\n",
       "    </tr>\n",
       "  </tbody>\n",
       "</table>\n",
       "</div>"
      ],
      "text/plain": [
       "        States ID States\n",
       "0    Indonesia       INA\n",
       "1     Malaysia        MY\n",
       "2  Philippines        PH\n",
       "3     Thailand        TH\n",
       "4      Vietnam        VN"
      ]
     },
     "execution_count": 5,
     "metadata": {},
     "output_type": "execute_result"
    }
   ],
   "source": [
    "df_states"
   ]
  },
  {
   "cell_type": "code",
   "execution_count": null,
   "id": "7c7580e3",
   "metadata": {},
   "outputs": [],
   "source": [
    "# you can etiher export to csv or excel\n",
    "# df_states.to_csv('states.csv', index=False)"
   ]
  },
  {
   "cell_type": "markdown",
   "id": "b1f17464",
   "metadata": {},
   "source": [
    "### **Handling Exception Errors Using try-except**"
   ]
  },
  {
   "cell_type": "code",
   "execution_count": null,
   "id": "aa808a77",
   "metadata": {},
   "outputs": [
    {
     "name": "stdout",
     "output_type": "stream",
     "text": [
      "1.0\n",
      "2.0\n",
      "3.0\n",
      "the element is not a number!\n"
     ]
    }
   ],
   "source": [
    "a_list = [2,4,6, 'string element']\n",
    "\n",
    "for element in a_list:\n",
    "    try:\n",
    "        print(element/2)\n",
    "    except:\n",
    "        print('the element is not a number!')"
   ]
  },
  {
   "cell_type": "code",
   "execution_count": null,
   "id": "896857ab",
   "metadata": {},
   "outputs": [
    {
     "name": "stdout",
     "output_type": "stream",
     "text": [
      "1.0\n",
      "2.0\n",
      "3.0\n",
      "the element is not a number!\n"
     ]
    }
   ],
   "source": [
    "a_list = [2,4,6, 'string element']\n",
    "\n",
    "for element in a_list:\n",
    "    try:\n",
    "        print(element/2)\n",
    "    except:\n",
    "        print('the element is not a number!')"
   ]
  },
  {
   "cell_type": "markdown",
   "id": "1af5fb14",
   "metadata": {},
   "source": [
    "Ketika kita melakukan scraping terkadang kita menemukan error pada elemen yang ingin kita ambil karena ketidak sesuaian data, sebagai contoh pada kasus try-except digunakan agar code yang kita bisa berjalan hingga akhir walaupun elemen yang ingin kita ambil tidak memenuhi kriteria.\n",
    "\n",
    "Jika try-excepet tidak digunakan code akan mengeluarkan error messages sehingga data yang berhasil diambil tidak dapat tersimpan karena salah satu elemen tidak sesuai kriteria, maka dari itu try-except digunakan."
   ]
  },
  {
   "cell_type": "markdown",
   "id": "205e352e",
   "metadata": {},
   "source": [
    "### **Pagination Using while-break**"
   ]
  },
  {
   "cell_type": "code",
   "execution_count": null,
   "id": "95351453",
   "metadata": {},
   "outputs": [
    {
     "name": "stdout",
     "output_type": "stream",
     "text": [
      "5\n",
      "4\n",
      "3\n",
      "End of the pages loop\n"
     ]
    }
   ],
   "source": [
    "num_pages = 5 # number of pages\n",
    "\n",
    "while num_pages > 0 : # expception\n",
    "    print(num_pages)\n",
    "    num_pages -= 1\n",
    "\n",
    "    if num_pages == 2:\n",
    "        break\n",
    "print('End of the pages loop')"
   ]
  },
  {
   "cell_type": "markdown",
   "id": "d1ffb94d",
   "metadata": {},
   "source": [
    "**Pagination** merupakan cara untuk kita mengambil data dari setiap halaman website yang ada. Umumnya digunakan pada librarry Beautiful soup dan Selenium."
   ]
  }
 ],
 "metadata": {
  "kernelspec": {
   "display_name": "Python 3",
   "language": "python",
   "name": "python3"
  },
  "language_info": {
   "codemirror_mode": {
    "name": "ipython",
    "version": 3
   },
   "file_extension": ".py",
   "mimetype": "text/x-python",
   "name": "python",
   "nbconvert_exporter": "python",
   "pygments_lexer": "ipython3",
   "version": "3.10.7"
  }
 },
 "nbformat": 4,
 "nbformat_minor": 5
}
